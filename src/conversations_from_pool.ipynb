{
 "cells": [
  {
   "cell_type": "code",
   "execution_count": 12,
   "metadata": {},
   "outputs": [
    {
     "name": "stdout",
     "output_type": "stream",
     "text": [
      "['What is throat cancer?', 'Is throat cancer treatable?', 'Tell me about lung cancer.', 'What are the symptoms of lung cancer?', 'Can lung cancer spread to the throat?', 'What causes throat cancer?', 'What is the first sign of throat cancer?', 'Is throat cancer the same as esophageal cancer?', \"What's the difference in symptoms of throat cancer and esophageal cancer?\"]\n",
      "9\n",
      "737\n",
      "605\n"
     ]
    }
   ],
   "source": [
    "# get a sample conversation\n",
    "\n",
    "path_qs = '../data/cast19/human_questions.txt'\n",
    "\n",
    "gs_qs = {}\n",
    "with open(path_qs, 'r') as f:\n",
    "    next(f)\n",
    "    for line in f:\n",
    "        q_id, q = line.split('\\t')\n",
    "#         print(q_id)\n",
    "        gs_qs[q_id] = (q.strip('\\n'))\n",
    "# print(len(gs_qs))\n",
    "# print(gs_qs['1_11'])\n",
    "\n",
    "# collect all paragraphs\n",
    "path = '../data/cast19/test_paragraphs.tsv'\n",
    "qp_ids = {}\n",
    "paras = {}\n",
    "with open(path, encoding='utf-8') as f:\n",
    "    for i, line in enumerate(f):\n",
    "        q_id, para_id, para_text = line.rstrip().split('\\t')\n",
    "        if q_id not in qp_ids:\n",
    "            qp_ids[q_id] = []\n",
    "        qp_ids[q_id].append(para_id)\n",
    "        if para_id not in paras:\n",
    "            paras[para_id] = para_text\n",
    "# print(len(paras))\n",
    "# print(qp_ids)\n",
    "\n",
    "# group question ids into sequences within the same conversation\n",
    "from collections import defaultdict\n",
    "\n",
    "question_sequences = defaultdict(list)\n",
    "for q_id in qp_ids:\n",
    "    conversation_id = q_id.split('_')[0]\n",
    "    question_sequences[conversation_id].append(q_id)\n",
    "#     print(gs_qs[q_id])\n",
    "sample_conversation = question_sequences['31']\n",
    "sample_qs = [gs_qs[i] for i in sample_conversation]\n",
    "print(sample_qs)\n",
    "print(len(sample_qs))\n",
    "sample_ps_sets = [qp_ids[i] for i in sample_conversation]\n",
    "# print(len(sample_ps_sets))\n",
    "sample_ps = [p for i in sample_conversation for p in qp_ids[i]]\n",
    "print(len(sample_ps))\n",
    "sample_ps = set(sample_ps)\n",
    "print(len(sample_ps))"
   ]
  },
  {
   "cell_type": "code",
   "execution_count": 2,
   "metadata": {},
   "outputs": [
    {
     "name": "stdout",
     "output_type": "stream",
     "text": [
      "What is throat cancer? 89\n",
      "Is throat cancer treatable? 77\n",
      "Tell me about lung cancer. 171\n",
      "What are the symptoms of lung cancer? 98\n",
      "Can lung cancer spread to the throat? 58\n",
      "What causes throat cancer? 63\n",
      "What is the first sign of throat cancer? 58\n",
      "Is throat cancer the same as esophageal cancer? 68\n",
      "What's the difference in symptoms of throat cancer and esophageal cancer? 55\n"
     ]
    }
   ],
   "source": [
    "for i, p_set in enumerate(sample_ps_sets):\n",
    "    print(sample_qs[i], len(p_set))"
   ]
  },
  {
   "cell_type": "code",
   "execution_count": 14,
   "metadata": {},
   "outputs": [
    {
     "name": "stdout",
     "output_type": "stream",
     "text": [
      "['throat', 'cancer', 'lung', 'symptoms', 'esophageal']\n"
     ]
    }
   ],
   "source": [
    "# find duplicate words\n",
    "from collections import Counter\n",
    "import spacy\n",
    "\n",
    "nlp = spacy.load('en_core_web_sm')\n",
    "\n",
    "keywords = Counter()\n",
    "for q in sample_qs:\n",
    "    # preprocess question\n",
    "    q = nlp(q.lower())\n",
    "    keywords.update([token.text for token in q if not token.is_punct and not token.is_stop])\n",
    "fts = [word for (word, freq) in keywords.items() if freq > 1]\n",
    "print(fts)"
   ]
  },
  {
   "cell_type": "code",
   "execution_count": 16,
   "metadata": {},
   "outputs": [
    {
     "name": "stdout",
     "output_type": "stream",
     "text": [
      "112\n"
     ]
    }
   ],
   "source": [
    "# find duplicate paragraphs\n",
    "pars = Counter()\n",
    "for p_set in sample_ps_sets:\n",
    "    pars.update(p_set)\n",
    "fps = [word for (word, freq) in pars.items() if freq > 1]\n",
    "print(len(fps))"
   ]
  },
  {
   "cell_type": "code",
   "execution_count": 18,
   "metadata": {},
   "outputs": [
    {
     "name": "stdout",
     "output_type": "stream",
     "text": [
      "What is throat cancer? ['throat', 'cancer'] 40\n",
      "Is throat cancer treatable? ['throat', 'cancer'] 18\n",
      "Tell me about lung cancer. ['lung', 'cancer'] 27\n",
      "What are the symptoms of lung cancer? ['symptoms', 'lung', 'cancer'] 16\n",
      "Can lung cancer spread to the throat? ['lung', 'cancer', 'throat'] 22\n",
      "What causes throat cancer? ['throat', 'cancer'] 30\n",
      "What is the first sign of throat cancer? ['throat', 'cancer'] 34\n",
      "Is throat cancer the same as esophageal cancer? ['throat', 'cancer', 'esophageal', 'cancer'] 23\n",
      "What's the difference in symptoms of throat cancer and esophageal cancer? ['symptoms', 'throat', 'cancer', 'esophageal', 'cancer'] 34\n"
     ]
    }
   ],
   "source": [
    "# show relations between questions\n",
    "for i, q in enumerate(sample_qs):\n",
    "    # preprocess question\n",
    "    terms = [token.text for token in nlp(q.lower()) if token.text in fts]\n",
    "    dup_ps = [p for p in sample_ps_sets[i] if p in fps]\n",
    "    print(q, terms, len(dup_ps))"
   ]
  },
  {
   "cell_type": "code",
   "execution_count": null,
   "metadata": {},
   "outputs": [],
   "source": []
  }
 ],
 "metadata": {
  "kernelspec": {
   "display_name": "transformers",
   "language": "python",
   "name": "transformers"
  },
  "language_info": {
   "codemirror_mode": {
    "name": "ipython",
    "version": 3
   },
   "file_extension": ".py",
   "mimetype": "text/x-python",
   "name": "python",
   "nbconvert_exporter": "python",
   "pygments_lexer": "ipython3",
   "version": "3.8.1"
  }
 },
 "nbformat": 4,
 "nbformat_minor": 2
}
