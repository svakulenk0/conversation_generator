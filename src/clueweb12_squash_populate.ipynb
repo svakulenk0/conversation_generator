{
 "cells": [
  {
   "cell_type": "code",
   "execution_count": 4,
   "metadata": {},
   "outputs": [
    {
     "name": "stdout",
     "output_type": "stream",
     "text": [
      "277 questions\n"
     ]
    }
   ],
   "source": [
    "from collections import defaultdict\n",
    "\n",
    "dataset = 'tasks15'\n",
    "dataset_path = '../data/%s/test_paragraphs.tsv' % dataset\n",
    "\n",
    "qp_ids = defaultdict(list)\n",
    "with open(dataset_path, 'r', encoding='utf-8') as f:\n",
    "    for line in f.readlines():\n",
    "        q_id, para_id, p = line.split('\\t')\n",
    "        qp_ids[q_id].append(p)\n",
    "#         break\n",
    "print(len(qp_ids), 'questions')"
   ]
  },
  {
   "cell_type": "code",
   "execution_count": 9,
   "metadata": {},
   "outputs": [
    {
     "ename": "FileNotFoundError",
     "evalue": "[Errno 2] No such file or directory: '/home/svakule/squash-generation/squash/temp/tasks15/1_5'",
     "output_type": "error",
     "traceback": [
      "\u001b[0;31m---------------------------------------------------------------------------\u001b[0m",
      "\u001b[0;31mFileNotFoundError\u001b[0m                         Traceback (most recent call last)",
      "\u001b[0;32m<ipython-input-9-471726893d1b>\u001b[0m in \u001b[0;36m<module>\u001b[0;34m\u001b[0m\n\u001b[1;32m     22\u001b[0m         }\n\u001b[1;32m     23\u001b[0m \u001b[0;34m\u001b[0m\u001b[0m\n\u001b[0;32m---> 24\u001b[0;31m     \u001b[0mos\u001b[0m\u001b[0;34m.\u001b[0m\u001b[0mmkdir\u001b[0m\u001b[0;34m(\u001b[0m\u001b[0;34m\"%s/squash/temp/%s/%s\"\u001b[0m \u001b[0;34m%\u001b[0m \u001b[0;34m(\u001b[0m\u001b[0msquash_path\u001b[0m\u001b[0;34m,\u001b[0m \u001b[0mdataset\u001b[0m\u001b[0;34m,\u001b[0m \u001b[0mq_id\u001b[0m\u001b[0;34m)\u001b[0m\u001b[0;34m)\u001b[0m\u001b[0;34m\u001b[0m\u001b[0;34m\u001b[0m\u001b[0m\n\u001b[0m\u001b[1;32m     25\u001b[0m \u001b[0;34m\u001b[0m\u001b[0m\n\u001b[1;32m     26\u001b[0m     \u001b[0;32mwith\u001b[0m \u001b[0mopen\u001b[0m\u001b[0;34m(\u001b[0m\u001b[0;34m'%s/squash/temp/%s/%s/metadata.json'\u001b[0m \u001b[0;34m%\u001b[0m \u001b[0;34m(\u001b[0m\u001b[0msquash_path\u001b[0m\u001b[0;34m,\u001b[0m \u001b[0mdataset\u001b[0m\u001b[0;34m,\u001b[0m \u001b[0mq_id\u001b[0m\u001b[0;34m)\u001b[0m\u001b[0;34m,\u001b[0m \u001b[0;34m'w'\u001b[0m\u001b[0;34m)\u001b[0m \u001b[0;32mas\u001b[0m \u001b[0mf\u001b[0m\u001b[0;34m:\u001b[0m\u001b[0;34m\u001b[0m\u001b[0;34m\u001b[0m\u001b[0m\n",
      "\u001b[0;31mFileNotFoundError\u001b[0m: [Errno 2] No such file or directory: '/home/svakule/squash-generation/squash/temp/tasks15/1_5'"
     ]
    }
   ],
   "source": [
    "import datetime\n",
    "import json\n",
    "import os\n",
    "\n",
    "\n",
    "squash_path = '/home/svakule/squash-generation'\n",
    "top_p = 0.9\n",
    "gen_frac = 0.5\n",
    "spec_frac = 0.8\n",
    "\n",
    "\n",
    "for q_id, ps in qp_ids.items():\n",
    "    metadata = {\n",
    "            \"input_text\": \"\\n\".join(ps),\n",
    "            \"key\": q_id,\n",
    "            \"timestamp\": str(datetime.datetime.now()),\n",
    "            \"settings\": {\n",
    "                \"top_p\": top_p,\n",
    "                \"gen_frac\": gen_frac,\n",
    "                \"spec_frac\": spec_frac\n",
    "            }\n",
    "        }\n",
    "\n",
    "    os.mkdir(\"%s/squash/temp/%s/%s\" % (squash_path, dataset, q_id))\n",
    "\n",
    "    with open('%s/squash/temp/%s/%s/metadata.json' % (squash_path, dataset, q_id), 'w') as f:\n",
    "        f.write(json.dumps(metadata))"
   ]
  },
  {
   "cell_type": "code",
   "execution_count": null,
   "metadata": {},
   "outputs": [],
   "source": [
    "# dump passages\n",
    "import datetime\n",
    "import json\n",
    "import os\n",
    "\n",
    "squash_path = '/home/svakule/squash-generation'\n",
    "os.mkdir(\"%s/squash/temp/%s\" % (squash_path, key))\n",
    "\n",
    "key = 'clueweb12'\n",
    "top_p = 0.9\n",
    "gen_frac = 0.5\n",
    "spec_frac = 0.8\n",
    "\n",
    "\n",
    "metadata = {\n",
    "        \"input_text\": \"\\n\".join(paras),\n",
    "        \"key\": key,\n",
    "        \"timestamp\": str(datetime.datetime.now()),\n",
    "        \"settings\": {\n",
    "            \"top_p\": top_p,\n",
    "            \"gen_frac\": gen_frac,\n",
    "            \"spec_frac\": spec_frac\n",
    "        }\n",
    "    }\n",
    "\n",
    "\n",
    "with open('%s/squash/temp/%s/metadata.json' % (squash_path, key), 'w') as f:\n",
    "    f.write(json.dumps(metadata))\n",
    "    \n",
    "# python squash/extract_answers.py --key clueweb12\n",
    "# python question-generation/interact.py --model_checkpoint question-generation/gpt2_corefs_question_generation --model_type gpt2 --key clueweb12 --filename squash/temp/clueweb12/input.pkl\n",
    "# vim squash/temp/clueweb12/generated_questions.json"
   ]
  }
 ],
 "metadata": {
  "kernelspec": {
   "display_name": "text_analysis",
   "language": "python",
   "name": "text_analysis"
  },
  "language_info": {
   "codemirror_mode": {
    "name": "ipython",
    "version": 3
   },
   "file_extension": ".py",
   "mimetype": "text/x-python",
   "name": "python",
   "nbconvert_exporter": "python",
   "pygments_lexer": "ipython3",
   "version": "3.6.9"
  }
 },
 "nbformat": 4,
 "nbformat_minor": 2
}
