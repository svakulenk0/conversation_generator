{
 "cells": [
  {
   "cell_type": "code",
   "execution_count": 3,
   "metadata": {},
   "outputs": [
    {
     "name": "stdout",
     "output_type": "stream",
     "text": [
      "up on the Acid Stain section. This time we used the white base overlay. What a different look!. If you are concerned with patio furniture being wobbly or other problems that. Acid Stain - Acid stain can be applied using many different techniques,. Beautifully curved, this acid stained concrete patio adds simple elegance to this home.. Acid staining can really change the look of any concrete.. concrete georgia . com 770-380-5277 Atlanta Georgia EMAIL FOR FREE Natural Language GUIDE ADVICE acid stain site . com SEE FLOOR POOL AND PATIO PHOTOS We cover the entire. Here's another\n",
      "\n"
     ]
    }
   ],
   "source": [
    "output_path = '../data/tasks16/test_paragraphs.tsv'\n",
    "with open(output_path, 'r', encoding='utf-8') as f:\n",
    "    for line in f.readlines():\n",
    "        q_id, para_id, p = line.split('\\t')\n",
    "        print(p)\n",
    "        break"
   ]
  },
  {
   "cell_type": "code",
   "execution_count": null,
   "metadata": {},
   "outputs": [],
   "source": [
    "# dump passages\n",
    "import datetime\n",
    "import json\n",
    "import os\n",
    "\n",
    "squash_path = '/home/svakule/squash-generation'\n",
    "os.mkdir(\"%s/squash/temp/%s\" % (squash_path, key))\n",
    "\n",
    "key = 'clueweb12'\n",
    "top_p = 0.9\n",
    "gen_frac = 0.5\n",
    "spec_frac = 0.8\n",
    "\n",
    "\n",
    "metadata = {\n",
    "        \"input_text\": \"\\n\".join(paras),\n",
    "        \"key\": key,\n",
    "        \"timestamp\": str(datetime.datetime.now()),\n",
    "        \"settings\": {\n",
    "            \"top_p\": top_p,\n",
    "            \"gen_frac\": gen_frac,\n",
    "            \"spec_frac\": spec_frac\n",
    "        }\n",
    "    }\n",
    "\n",
    "\n",
    "with open('%s/squash/temp/%s/metadata.json' % (squash_path, key), 'w') as f:\n",
    "    f.write(json.dumps(metadata))\n",
    "    \n",
    "# python squash/extract_answers.py --key clueweb12\n",
    "# python question-generation/interact.py --model_checkpoint question-generation/gpt2_corefs_question_generation --model_type gpt2 --key clueweb12 --filename squash/temp/clueweb12/input.pkl\n",
    "# vim squash/temp/clueweb12/generated_questions.json"
   ]
  }
 ],
 "metadata": {
  "kernelspec": {
   "display_name": "text_analysis",
   "language": "python",
   "name": "text_analysis"
  },
  "language_info": {
   "codemirror_mode": {
    "name": "ipython",
    "version": 3
   },
   "file_extension": ".py",
   "mimetype": "text/x-python",
   "name": "python",
   "nbconvert_exporter": "python",
   "pygments_lexer": "ipython3",
   "version": "3.6.9"
  }
 },
 "nbformat": 4,
 "nbformat_minor": 2
}
