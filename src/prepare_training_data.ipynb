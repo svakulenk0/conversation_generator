{
 "cells": [
  {
   "cell_type": "code",
   "execution_count": 4,
   "metadata": {
    "collapsed": false
   },
   "outputs": [
    {
     "name": "stdout",
     "output_type": "stream",
     "text": [
      "748 questions\n",
      "What is the fastest way to become a nurse practitioner NP?\n"
     ]
    }
   ],
   "source": [
    "# load gt questions\n",
    "# collect all GS questions: independent\n",
    "path_qs = '../data/cast19/train_questions.tsv'\n",
    "\n",
    "gs_qs = {}\n",
    "with open(path_qs, 'r') as f:\n",
    "#     next(f)\n",
    "    for line in f:\n",
    "        q_id, q = line.split('\\t')\n",
    "#         print(q_id)\n",
    "        gs_qs[q_id] = (q.strip('\\n'))\n",
    "print(len(gs_qs), 'questions')\n",
    "print(gs_qs['1_11'])"
   ]
  },
  {
   "cell_type": "code",
   "execution_count": 8,
   "metadata": {
    "collapsed": false
   },
   "outputs": [
    {
     "name": "stdout",
     "output_type": "stream",
     "text": [
      "637\n",
      "['Physician assistants work under the supervision of a physician or surgeon; however, their specific duties and the extent to which they must be supervised differ from state to state. Physician assistants work in all areas of medicine, including primary care and family medicine, emergency medicine, and psychiatry.The work of physician assistants depends in large part on their specialty and what their supervising physician needs them to do.For example, a physician assistant working in surgery may close incisions and provide care before and after the operation.he work of physician assistants depends in large part on their specialty and what their supervising physician needs them to do. For example, a physician assistant working in surgery may close incisions and provide care before and after the operation.', \"What is a physician's assistant?\"]\n"
     ]
    }
   ],
   "source": [
    "# load passages\n",
    "# collect all paragraphs\n",
    "samples = []\n",
    "path = '../data/cast19/train_paragraphs.tsv'\n",
    "with open(path, encoding='utf-8') as f:\n",
    "    for i, line in enumerate(f):\n",
    "        q_id, para_id, para_text = line.rstrip().split('\\t')\n",
    "        samples.append([para_text, gs_qs[q_id]])\n",
    "print(len(samples))\n",
    "print(samples[0])"
   ]
  },
  {
   "cell_type": "code",
   "execution_count": 9,
   "metadata": {
    "collapsed": false
   },
   "outputs": [],
   "source": [
    "# write file for training\n",
    "path = '../data/cast19/train.tsv'\n",
    "with open(path, 'w') as f:\n",
    "    for s in samples:\n",
    "        f.write('\\t'.join(s) + '\\n')"
   ]
  },
  {
   "cell_type": "code",
   "execution_count": null,
   "metadata": {
    "collapsed": true
   },
   "outputs": [],
   "source": []
  }
 ],
 "metadata": {
  "kernelspec": {
   "display_name": "qrecc",
   "language": "python",
   "name": "qrecc"
  },
  "language_info": {
   "codemirror_mode": {
    "name": "ipython",
    "version": 3
   },
   "file_extension": ".py",
   "mimetype": "text/x-python",
   "name": "python",
   "nbconvert_exporter": "python",
   "pygments_lexer": "ipython3",
   "version": "3.7.11"
  }
 },
 "nbformat": 4,
 "nbformat_minor": 2
}
