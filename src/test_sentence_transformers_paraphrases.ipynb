{
 "cells": [
  {
   "cell_type": "code",
   "execution_count": 17,
   "metadata": {},
   "outputs": [
    {
     "name": "stdout",
     "output_type": "stream",
     "text": [
      "tensor([0.9750, 0.9668, 0.9342, 0.9046, 0.4253, 0.5013, 0.4864, 0.4324])\n",
      "tensor([0.9750])\n",
      "Duplicate detected\n",
      "symptoms of esophageal cancer (Score: 0.9750)\n"
     ]
    }
   ],
   "source": [
    "# check history for duplicate questions\n",
    "import torch\n",
    "from sentence_transformers import SentenceTransformer, util\n",
    "\n",
    "model = SentenceTransformer('distilbert-base-nli-stsb-quora-ranking')\n",
    "\n",
    "question = 'esophageal cancer symptoms'\n",
    "query_embedding = model.encode(question, convert_to_tensor=True)\n",
    "\n",
    "\n",
    "history = ['symptoms of esophageal cancer',  # 4 duplicates\n",
    "           'symptoms esophageal cancer',\n",
    "           'what is the symptoms of esophageal cancer',\n",
    "           'causes and symptoms of esophageal cancer',\n",
    "            'what type of cancer does cigars cause',  # 4 new\n",
    "           'lung cancer causes and symptoms',\n",
    "           'mouth cancer symptoms',\n",
    "           'causes of mouth cancer']\n",
    "\n",
    "corpus_embeddings = model.encode(history, convert_to_tensor=True)\n",
    "\n",
    "# We use cosine-similarity and torch.topk to find the highest 5 scores\n",
    "cos_scores = util.pytorch_cos_sim(query_embedding, corpus_embeddings)[0]\n",
    "print(cos_scores)\n",
    "\n",
    "# Find the closest question in the history based on cosine similarity\n",
    "top_results = torch.topk(cos_scores, k=1)\n",
    "if top_results[0] > 0.8:\n",
    "    print('Duplicate detected')"
   ]
  },
  {
   "cell_type": "code",
   "execution_count": null,
   "metadata": {},
   "outputs": [],
   "source": []
  },
  {
   "cell_type": "code",
   "execution_count": 1,
   "metadata": {},
   "outputs": [
    {
     "name": "stdout",
     "output_type": "stream",
     "text": [
      "The new movie is awesome \t\t The new movie is so great \t\t Score: 0.9816\n",
      "The cat sits outside \t\t The cat plays in the garden \t\t Score: 0.6247\n",
      "I love pasta \t\t The new movie is so great \t\t Score: 0.2605\n",
      "I love pasta \t\t The new movie is awesome \t\t Score: 0.2526\n",
      "I love pasta \t\t The cat plays in the garden \t\t Score: 0.2455\n",
      "I love pasta \t\t Do you like pizza? \t\t Score: 0.1997\n",
      "The cat sits outside \t\t A woman watches TV \t\t Score: 0.1837\n",
      "The cat plays in the garden \t\t A woman watches TV \t\t Score: 0.1760\n",
      "A man is playing guitar \t\t Do you like pizza? \t\t Score: 0.1080\n",
      "A woman watches TV \t\t The new movie is so great \t\t Score: 0.1008\n"
     ]
    }
   ],
   "source": [
    "from sentence_transformers import SentenceTransformer, util\n",
    "\n",
    "model = SentenceTransformer('distilbert-base-nli-stsb-mean-tokens')\n",
    "\n",
    "# Single list of sentences - Possible tens of thousands of sentences\n",
    "sentences = ['The cat sits outside',\n",
    "             'A man is playing guitar',\n",
    "             'I love pasta',\n",
    "             'The new movie is awesome',\n",
    "             'The cat plays in the garden',\n",
    "             'A woman watches TV',\n",
    "             'The new movie is so great',\n",
    "             'Do you like pizza?']\n",
    "\n",
    "paraphrases = util.paraphrase_mining(model, sentences)\n",
    "\n",
    "for paraphrase in paraphrases[0:10]:\n",
    "    score, i, j = paraphrase\n",
    "    print(\"{} \\t\\t {} \\t\\t Score: {:.4f}\".format(sentences[i], sentences[j], score))"
   ]
  },
  {
   "cell_type": "code",
   "execution_count": 2,
   "metadata": {},
   "outputs": [
    {
     "name": "stderr",
     "output_type": "stream",
     "text": [
      "100%|██████████| 245M/245M [00:07<00:00, 33.9MB/s] \n"
     ]
    },
    {
     "name": "stdout",
     "output_type": "stream",
     "text": [
      "symptoms of esophageal cancer \t\t symptoms esophageal cancer \t\t Score: 0.9784\n",
      "esophageal cancer symptoms \t\t symptoms of esophageal cancer \t\t Score: 0.9750\n",
      "esophageal cancer symptoms \t\t symptoms esophageal cancer \t\t Score: 0.9668\n"
     ]
    }
   ],
   "source": [
    "# check duplicate questions\n",
    "from sentence_transformers import SentenceTransformer, util\n",
    "\n",
    "model = SentenceTransformer('distilbert-base-nli-stsb-quora-ranking')\n",
    "\n",
    "# Single list of sentences - Possible tens of thousands of sentences\n",
    "sentences = ['esophageal cancer symptoms',\n",
    "             'symptoms of esophageal cancer',\n",
    "             'symptoms esophageal cancer']\n",
    "\n",
    "paraphrases = util.paraphrase_mining(model, sentences)\n",
    "\n",
    "for paraphrase in paraphrases[0:10]:\n",
    "    score, i, j = paraphrase\n",
    "    print(\"{} \\t\\t {} \\t\\t Score: {:.4f}\".format(sentences[i], sentences[j], score))"
   ]
  },
  {
   "cell_type": "code",
   "execution_count": null,
   "metadata": {},
   "outputs": [],
   "source": []
  }
 ],
 "metadata": {
  "kernelspec": {
   "display_name": "transformers",
   "language": "python",
   "name": "transformers"
  },
  "language_info": {
   "codemirror_mode": {
    "name": "ipython",
    "version": 3
   },
   "file_extension": ".py",
   "mimetype": "text/x-python",
   "name": "python",
   "nbconvert_exporter": "python",
   "pygments_lexer": "ipython3",
   "version": "3.8.1"
  }
 },
 "nbformat": 4,
 "nbformat_minor": 4
}
