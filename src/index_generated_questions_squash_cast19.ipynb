{
 "cells": [
  {
   "cell_type": "code",
   "execution_count": 15,
   "metadata": {},
   "outputs": [
    {
     "name": "stdout",
     "output_type": "stream",
     "text": [
      "6475 passages with generated questions\n"
     ]
    }
   ],
   "source": [
    "# load generated questions\n",
    "import os\n",
    "import json\n",
    "import numpy as np\n",
    "from collections import Counter, defaultdict\n",
    "\n",
    "topics = defaultdict(list)\n",
    "qas = defaultdict(list)\n",
    "non_unique_questions = defaultdict(list)\n",
    "\n",
    "squash_path = '/home/svakule/squash-generation/squash/temp/trec_cast19_paragraphs'\n",
    "\n",
    "generated_questions = {}\n",
    "for p_id in os.listdir(squash_path):\n",
    "    try:\n",
    "        with open(squash_path+'/%s/generated_questions.json' % p_id) as f:\n",
    "            paragraphs = json.load(f)['data'][0]['paragraphs']\n",
    "            generated_questions[p_id] = []\n",
    "            for i, p in enumerate(paragraphs):\n",
    "                for qa in p['qas']:\n",
    "                    q = qa['question']#.lower()\n",
    "                    generated_questions[p_id].append(q)\n",
    "    except:\n",
    "        continue\n",
    "                    \n",
    "print(len(generated_questions), 'passages with generated questions')"
   ]
  },
  {
   "cell_type": "code",
   "execution_count": 13,
   "metadata": {},
   "outputs": [
    {
     "name": "stdout",
     "output_type": "stream",
     "text": [
      "88658 unique generated questions\n"
     ]
    }
   ],
   "source": [
    "# filter only questions that have enough support ie relevant passages\n",
    "# same as in TREC\n",
    "min_passages_per_question = 3\n",
    "\n",
    "doc_id = 0\n",
    "documents = []\n",
    "all_qs = []\n",
    "for p_id, qs in generated_questions.items():\n",
    "    # index questions with sufficient support (non-unique within topic)\n",
    "    if len(qs) < min_passages_per_question:\n",
    "        continue\n",
    "    for q in qs:\n",
    "        # skip duplicate questions\n",
    "        if q in all_qs:\n",
    "            continue\n",
    "        documents.append({'id': doc_id,\n",
    "                          'contents': q})\n",
    "        all_qs.append(q)\n",
    "        doc_id += 1\n",
    "print(len(documents), 'unique generated questions')"
   ]
  },
  {
   "cell_type": "markdown",
   "metadata": {},
   "source": [
    "# Index questions"
   ]
  },
  {
   "cell_type": "code",
   "execution_count": 16,
   "metadata": {},
   "outputs": [
    {
     "data": {
      "text/plain": [
       "0"
      ]
     },
     "execution_count": 16,
     "metadata": {},
     "output_type": "execute_result"
    }
   ],
   "source": [
    "import os\n",
    "import json\n",
    "\n",
    "anserini_folder = \"/home/svakule/markers_bert/Anserini/\"\n",
    "json_files_path = \"../results/questions_index/collection\"\n",
    "path_index = \"/home/svakule/markers_bert/Anserini/indexes/squash_cast19\"\n",
    "\n",
    "if not os.path.isdir(json_files_path):\n",
    "    os.makedirs(json_files_path)\n",
    "for i, doc in enumerate(documents):\n",
    "    with open(json_files_path+'/docs{:02d}.json'.format(i), 'w', encoding='utf-8', ) as f:\n",
    "        f.write(json.dumps(doc) + '\\n')        \n",
    "\n",
    "# Run index java command\n",
    "os.system(\"sh {}target/appassembler/bin/IndexCollection -collection JsonCollection\"   \\\n",
    "            \" -generator DefaultLuceneDocumentGenerator -threads 9 -input {}\" \\\n",
    "            \" -index {} -storePositions -storeDocvectors -storeRaw\". \\\n",
    "            format(anserini_folder, json_files_path, path_index))"
   ]
  },
  {
   "cell_type": "code",
   "execution_count": 20,
   "metadata": {},
   "outputs": [
    {
     "name": "stdout",
     "output_type": "stream",
     "text": [
      "7.50800 What is the abbreviation for the space telescope?\n",
      "6.75080 What did the A3 have to do with the space telescope?\n",
      "6.53120 What is the name of the space telescope that is scheduled to launch in September of 2018?\n"
     ]
    }
   ],
   "source": [
    "# test search \n",
    "import json\n",
    "from pyserini.search import SimpleSearcher\n",
    "\n",
    "searcher = SimpleSearcher(path_index)\n",
    "query_str = 'hubble space telescope'\n",
    "num_candidates_samples = 3\n",
    "\n",
    "hits = searcher.search(query_str, k=num_candidates_samples)\n",
    "# sampled_initial = [ hit.raw for hit in searcher.search(query_str, k=num_candidates_samples)]\n",
    "# print(sampled_initial)\n",
    "# Print the first 3 hits:\n",
    "for i in range(0, num_candidates_samples):\n",
    "    print(f'{hits[i].score:.5f}', json.loads(hits[i].raw)['contents'])"
   ]
  },
  {
   "cell_type": "code",
   "execution_count": null,
   "metadata": {},
   "outputs": [],
   "source": []
  }
 ],
 "metadata": {
  "kernelspec": {
   "display_name": "transformers",
   "language": "python",
   "name": "transformers"
  },
  "language_info": {
   "codemirror_mode": {
    "name": "ipython",
    "version": 3
   },
   "file_extension": ".py",
   "mimetype": "text/x-python",
   "name": "python",
   "nbconvert_exporter": "python",
   "pygments_lexer": "ipython3",
   "version": "3.8.1"
  }
 },
 "nbformat": 4,
 "nbformat_minor": 2
}
