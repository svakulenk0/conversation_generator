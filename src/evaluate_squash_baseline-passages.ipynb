{
 "cells": [
  {
   "cell_type": "markdown",
   "metadata": {},
   "source": [
    "## Question Generation"
   ]
  },
  {
   "cell_type": "code",
   "execution_count": 4,
   "metadata": {},
   "outputs": [
    {
     "name": "stdout",
     "output_type": "stream",
     "text": [
      "6485\n",
      "6485\n"
     ]
    }
   ],
   "source": [
    "# collect all paragraphs\n",
    "path = '../data/cast19/test_paragraphs.tsv'\n",
    "qp_ids = {}  # passage id to question id map\n",
    "paras = {}\n",
    "with open(path, encoding='utf-8') as f:\n",
    "    for i, line in enumerate(f):\n",
    "        q_id, para_id, para_text = line.rstrip().split('\\t')\n",
    "        if para_id not in qp_ids:\n",
    "            qp_ids[para_id] = []\n",
    "        qp_ids[para_id].append(q_id)\n",
    "        if para_id not in paras:\n",
    "            paras[para_id] = para_text\n",
    "print(len(paras))\n",
    "print(len(qp_ids))"
   ]
  },
  {
   "cell_type": "code",
   "execution_count": 15,
   "metadata": {},
   "outputs": [
    {
     "name": "stdout",
     "output_type": "stream",
     "text": [
      "479\n"
     ]
    }
   ],
   "source": [
    "# collect all GS questions\n",
    "path_qs = '../data/cast19/test_questions.tsv'\n",
    "\n",
    "gs_qs = {}\n",
    "with open(path_qs, 'r') as f:\n",
    "#     next(f)\n",
    "    for line in f:\n",
    "        q_id, q = line.split('\\t')\n",
    "#         print(q_id)\n",
    "        gs_qs[q_id] = (q.strip('\\n'))\n",
    "print(len(gs_qs))\n",
    "# print(gs_qs['11_1'])"
   ]
  },
  {
   "cell_type": "code",
   "execution_count": 16,
   "metadata": {},
   "outputs": [],
   "source": [
    "# generate questions for each paragraph separately\n",
    "import datetime\n",
    "import json\n",
    "import os\n",
    "\n",
    "squash_path = '/home/svakule/squash-generation'\n",
    "\n",
    "top_p = 0.9\n",
    "gen_frac = 0.5\n",
    "spec_frac = 0.8\n",
    "\n",
    "\n",
    "for p_id, p_text in paras.items():\n",
    "    key = p_id\n",
    "    \n",
    "    metadata = {\n",
    "            \"input_text\": p_text,\n",
    "            \"key\": key,\n",
    "            \"timestamp\": str(datetime.datetime.now()),\n",
    "            \"settings\": {\n",
    "                \"top_p\": top_p,\n",
    "                \"gen_frac\": gen_frac,\n",
    "                \"spec_frac\": spec_frac\n",
    "            }\n",
    "        }\n",
    "\n",
    "#     os.mkdir(\"%s/squash/temp/trec_cast19_paragraphs/%s\" % (squash_path, key))\n",
    "\n",
    "#     with open('%s/squash/temp/trec_cast19_paragraphs/%s/metadata.json' % (squash_path, key), 'w') as f:\n",
    "#         f.write(json.dumps(metadata))"
   ]
  },
  {
   "cell_type": "code",
   "execution_count": 17,
   "metadata": {},
   "outputs": [],
   "source": [
    "# for d in squash/temp/trec_cast19_paragraphs/*/ ; do\n",
    "#     k=\"$(basename $d)\"\n",
    "#     echo \"$k\"\n",
    "#     python squash/extract_answers.py --key trec_cast19_paragraphs/$k\n",
    "#     python question-generation/interact.py --model_checkpoint question-generation/gpt2_corefs_question_generation --model_type gpt2 --key trec_cast19_paragraphs/$k --filename squash/temp/trec_cast19_paragraphs/$d/input.pkl\n",
    "# done\n",
    "# vim squash/temp/trec_cast19_paragraphs/generated_questions.json"
   ]
  },
  {
   "cell_type": "markdown",
   "metadata": {},
   "source": [
    "# Question Evaluation"
   ]
  },
  {
   "cell_type": "code",
   "execution_count": 18,
   "metadata": {},
   "outputs": [
    {
     "name": "stdout",
     "output_type": "stream",
     "text": [
      "{'rouge1': Score(precision=0.8333333333333334, recall=1.0, fmeasure=0.9090909090909091), 'rougeL': Score(precision=0.6666666666666666, recall=0.8, fmeasure=0.7272727272727272)}\n"
     ]
    }
   ],
   "source": [
    "# test rouge scorer\n",
    "from rouge_score import rouge_scorer\n",
    "\n",
    "scorer = rouge_scorer.RougeScorer(['rouge1', 'rougeL'], use_stemmer=True)\n",
    "\n",
    "scores = scorer.score(\"what is fsa health plan .\", \"what is health care fsa plan .\")  # reference predicted\n",
    "print(scores)"
   ]
  },
  {
   "cell_type": "code",
   "execution_count": 19,
   "metadata": {},
   "outputs": [
    {
     "name": "stdout",
     "output_type": "stream",
     "text": [
      "6475\n"
     ]
    }
   ],
   "source": [
    "# load questions per passage\n",
    "import os\n",
    "import json\n",
    "\n",
    "squash_path = '/home/svakule/squash-generation/squash/temp/trec_cast19_paragraphs'\n",
    "\n",
    "generated_questions = {}\n",
    "for p_id in os.listdir(squash_path):\n",
    "#     print(p_id)\n",
    "#     \n",
    "    try:\n",
    "        with open(squash_path+'/%s/generated_questions.json' % p_id) as f:\n",
    "            paragraphs = json.load(f)['data'][0]['paragraphs']\n",
    "#             print(len(paragraphs))\n",
    "            for i, p in enumerate(paragraphs):\n",
    "    #             print(gs_qs[question_id])  # original (reference) question\n",
    "    #             print(p['context']) # original paragraph\n",
    "                generated_questions[p_id] = []\n",
    "                for qa in p['qas']:\n",
    "                    q = qa['question']#.lower()\n",
    "    #                 print(q)\n",
    "                    generated_questions[p_id].append(q)\n",
    "    except:\n",
    "        continue\n",
    "                    \n",
    "#     break\n",
    "print(len(generated_questions))"
   ]
  },
  {
   "cell_type": "code",
   "execution_count": 27,
   "metadata": {},
   "outputs": [
    {
     "name": "stdout",
     "output_type": "stream",
     "text": [
      "0.493592177081424\n"
     ]
    }
   ],
   "source": [
    "# oracle selection\n",
    "import numpy as np\n",
    "\n",
    "max_scores = []\n",
    "# iterate over all passages\n",
    "for p_id in qp_ids:\n",
    "    if p_id in generated_questions:\n",
    "        gen_questions = generated_questions[p_id]\n",
    "    else:\n",
    "        gen_questions = []\n",
    "    gt_questions = [gs_qs[q_id] for q_id in qp_ids[p_id]]\n",
    "#     print(gt_questions)\n",
    "#     print(gen_questions)\n",
    "    for gt_question in gt_questions:\n",
    "        all_q_gens_scores = [0]\n",
    "        for gen_question in gen_questions:\n",
    "            scores = scorer.score(gt_question, gen_question)  # reference predicted\n",
    "            rouge1f = scores['rouge1'].fmeasure\n",
    "            all_q_gens_scores.append(scores['rouge1'].fmeasure)\n",
    "        max_score = max(all_q_gens_scores)\n",
    "        # show max scoring question\n",
    "#         print(gt_question)\n",
    "#         q_decoded = gen_questions[np.argmax(all_q_gens_scores)]\n",
    "#         print(q_decoded)\n",
    "    #     print('\\n')\n",
    "        max_scores.append(max_score)\n",
    "#     break\n",
    "# print(max_scores)\n",
    "print(np.mean(max_scores))"
   ]
  },
  {
   "cell_type": "code",
   "execution_count": 28,
   "metadata": {},
   "outputs": [
    {
     "name": "stdout",
     "output_type": "stream",
     "text": [
      "8120\n"
     ]
    }
   ],
   "source": [
    "print(len(max_scores))"
   ]
  },
  {
   "cell_type": "code",
   "execution_count": null,
   "metadata": {},
   "outputs": [],
   "source": []
  }
 ],
 "metadata": {
  "kernelspec": {
   "display_name": "transformers",
   "language": "python",
   "name": "transformers"
  },
  "language_info": {
   "codemirror_mode": {
    "name": "ipython",
    "version": 3
   },
   "file_extension": ".py",
   "mimetype": "text/x-python",
   "name": "python",
   "nbconvert_exporter": "python",
   "pygments_lexer": "ipython3",
   "version": "3.8.1"
  }
 },
 "nbformat": 4,
 "nbformat_minor": 2
}
