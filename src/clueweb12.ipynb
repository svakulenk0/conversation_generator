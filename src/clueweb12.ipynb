{
 "cells": [
  {
   "cell_type": "code",
   "execution_count": 62,
   "metadata": {},
   "outputs": [],
   "source": [
    "# access chat noir api\n",
    "# snippet from https://www.uni-weimar.de/medien/webis/events/pan-12/pan12-code/pan12-source-retrieval-baseline.py\n",
    "import requests\n",
    "import unicodedata\n",
    "import simplejson\n",
    "import sys\n",
    "from local_settings import TOKEN\n",
    "\n",
    "CHATNOIR = 'https://www.chatnoir.eu/api/v1/_search'\n",
    "\n",
    "def pose_query(query, token=TOKEN):\n",
    "    \"\"\" Poses the query to the ChatNoir search engine. \"\"\"\n",
    "    # Double curly braces are escaped curly braces, so that format\n",
    "    # strings will still work.\n",
    "    json_query = u\"\"\"\n",
    "    {{\n",
    "        \"apikey\": \"{apikey}\",\n",
    "        \"query\": \"{query}\",\n",
    "        \"index\": [\"cw12\"],\n",
    "        \"size\": 20,\n",
    "        \"pretty\": true\n",
    "    }}\n",
    "    \"\"\".format(apikey=token, query=query)\n",
    "    json_query = \\\n",
    "        unicodedata.normalize(\"NFKD\", json_query).encode(\"ascii\", \"ignore\")\n",
    "    try:\n",
    "        response = requests.post(CHATNOIR, data=json_query)\n",
    "        print(response)\n",
    "        results = simplejson.loads(response.text)\n",
    "        response.close()\n",
    "        return results\n",
    "    except requests.HTTPError as e:\n",
    "        error_message = e.read()\n",
    "        print >> sys.stderr, error_message\n",
    "        sys.exit(1)"
   ]
  },
  {
   "cell_type": "code",
   "execution_count": 63,
   "metadata": {},
   "outputs": [
    {
     "name": "stdout",
     "output_type": "stream",
     "text": [
      "<Response [200]>\n"
     ]
    }
   ],
   "source": [
    "# collect topics from an external collection\n",
    "# sample relevant documents\n",
    "q = 'acid stain concrete'\n",
    "results = pose_query(q)"
   ]
  },
  {
   "cell_type": "code",
   "execution_count": 64,
   "metadata": {},
   "outputs": [
    {
     "name": "stdout",
     "output_type": "stream",
     "text": [
      "{'meta': {'query_time': 11391, 'total_results': 9523, 'indices': ['cw12']}, 'results': [{'score': 3110.478, 'uuid': 'faa7cfe6-bda7-5654-bc36-f30cf9a3bcbf', 'index': 'cw12', 'trec_id': 'clueweb12-1507wb-01-08446', 'target_hostname': 'www.elitecreteaustralia.com.au', 'target_uri': 'http://www.elitecreteaustralia.com.au/concrete-acid-stain', 'page_rank': 1.7153556e-09, 'spam_rank': 69, 'title': '<em>Stain</em> <em>Concrete</em> <em>Acid</em> <em>Stain</em> <em>Concrete</em> Staining <em>Concrete</em> Colour', 'snippet': 'Home » Exterior Coatings » <em>Stain</em> <em>Concrete</em> With <em>Acid</em> <em>Stain</em> An <em>acid</em> <em>stain</em> is used to <em>stain</em> <em>concrete</em> and create decorative <em>concrete</em> art form that transforms plain grey <em>concrete</em> into a multitude of variegated, mottled, translucent and authentic appearing <em>concrete</em> patterns and designs.', 'explanation': None}, {'score': 2898.672, 'uuid': '40be4deb-70e1-590a-bfc1-cc5e14159153', 'index': 'cw12', 'trec_id': 'clueweb12-0410wb-07-14652', 'target_hostname': 'www.concretedecor.net', 'target_uri': 'http://www.concretedecor.net/Abstracts/CD402_Acid_Staining.cfm', 'page_rank': 1.3999761e-09, 'spam_rank': 90, 'title': 'Decorative <em>Concrete</em> <em>Acid</em> <em>Stain</em> - <em>Concrete</em> Decor', 'snippet': 'Integral color and color hardener are still the most common ways to tint <em>concrete</em>. But these days, the buzz is all about <em>acid</em> <em>stain</em>. Integral color and color hardener are still the most common ways to tint <em>concrete</em>. But these days, the buzz is all about <em>acid</em> <em>stain</em>.', 'explanation': None}, {'score': 2880.5645, 'uuid': '63e74d1b-d98d-5fdc-84ea-919cfacd1ef6', 'index': 'cw12', 'trec_id': 'clueweb12-0105wb-07-18809', 'target_hostname': 'www.concreteideas.com', 'target_uri': 'http://www.concreteideas.com/concrete/interior-floors/colored-stained-concrete/acid-stain-concrete-basics', 'page_rank': 1.1718672e-09, 'spam_rank': 75, 'title': '<em>Acid</em> <em>Stain</em> <em>Concrete</em> Basics | <em>Concrete</em> Ideas', 'snippet': 'Also referred to as: chemical <em>stain</em>, <em>acid</em> <em>stain</em>, patina <em>stain</em>, <em>acid</em> wash, reactive <em>stains</em>, color etch, chroma <em>stain</em> etc. Similar in their composition, various manufacturers offer &quot;<em>Acid</em> <em>Stain</em>&quot;. A basic <em>acid</em> <em>stain</em> is comprised of metallic salts combined in an <em>acid</em> and water based solution.', 'explanation': None}, {'score': 2727.35, 'uuid': '08c49060-4cfa-500f-8609-8dcba80b0fd2', 'index': 'cw12', 'trec_id': 'clueweb12-0105wb-07-18804', 'target_hostname': 'www.concreteideas.com', 'target_uri': 'http://www.concreteideas.com/concrete/exterior-concrete/exterior-acid-stain', 'page_rank': 1.1718672e-09, 'spam_rank': 76, 'title': 'Exterior <em>Acid</em> <em>Stain</em> | <em>Concrete</em> Ideas', 'snippet': 'With its unlimited design potential stained <em>concrete</em> has become the choice for today’s modern designers, as well as residential and commercial owners and building professionals. Exterior <em>concrete</em> <em>stain</em> can be a reactive <em>stain</em> as well as an acrylic based <em>stain</em>.', 'explanation': None}, {'score': 2580.984, 'uuid': '514911c8-0dbd-58f0-b0a6-2bcf816dd4be', 'index': 'cw12', 'trec_id': 'clueweb12-0105wb-07-18811', 'target_hostname': 'www.concreteideas.com', 'target_uri': 'http://www.concreteideas.com/concrete/interior-floors/colored-stained-concrete/faux-for-concrete-acid-based-stains', 'page_rank': 1.1968301e-09, 'spam_rank': 80, 'title': 'Faux for <em>Concrete</em> <em>Acid</em> Based <em>Stains</em> | <em>Concrete</em> Ideas', 'snippet': 'Natural variations are normal with <em>acid</em> based <em>concrete</em> <em>stains</em> due to variations in the surface of the <em>concrete</em>, as well as small cracks or seams that may become more apparent with the <em>stain</em>. These are generally known as advantages of <em>acid</em> <em>stains</em>, as they create a unique look.', 'explanation': None}, {'score': 2850.8423, 'uuid': 'c0c8f258-db7a-5a46-bbe5-e1c534565b33', 'index': 'cw12', 'trec_id': 'clueweb12-0901wb-17-16746', 'target_hostname': 'www.outdoorconcretedesign.com', 'target_uri': 'http://www.outdoorconcretedesign.com/acid_stained_concrete_columbus_cincinnati_dayton_ohio.htm', 'page_rank': 1.3828529e-09, 'spam_rank': 70, 'title': '<em>Concrete</em> Staining, Polished <em>Concrete</em>, <em>Acid</em> <em>Stain</em>, <em>Concrete</em> Polishing, Columbus', 'snippet': '<em>Acid</em> <em>Concrete</em> <em>Stain</em> and <em>Concrete</em> Polishing in Columbus, Cincinnati, &amp; Dayton, Ohio. Outdoor <em>Concrete</em> Designs <em>acid</em> stained <em>concrete</em> and <em>concrete</em> polishing is now combined for a more natural look and feel, just like polished stone.', 'explanation': None}, {'score': 2816.6274, 'uuid': 'c5287b11-5862-5ffb-b66c-2b9216a6404a', 'index': 'cw12', 'trec_id': 'clueweb12-1210wb-70-30211', 'target_hostname': 'www.decosup.com', 'target_uri': 'http://www.decosup.com/', 'page_rank': 1.4890629e-09, 'spam_rank': 97, 'title': 'Stamped <em>Concrete</em>, <em>Acid</em> <em>Stain</em>, <em>Concrete</em> Sealer, Decorative <em>Concrete</em>, <em>Concrete</em>', 'snippet': '<em>Acid</em> <em>Stain</em>: <em>Acid</em> <em>Stain</em> and Dyes create unique earth tone hues and transparent effects to <em>concrete</em> surfaces and overlays. They impart a marble like very natural look that will enhance your floors like no other product.', 'explanation': None}, {'score': 2812.2607, 'uuid': 'f8576743-b77e-55c0-9614-98ae666edd28', 'index': 'cw12', 'trec_id': 'clueweb12-1210wb-87-20407', 'target_hostname': 'www.decosup.com', 'target_uri': 'http://www.decosup.com/index.html', 'page_rank': 1.8469551e-09, 'spam_rank': 97, 'title': 'Stamped <em>Concrete</em>, <em>Acid</em> <em>Stain</em>, <em>Concrete</em> Sealer, Decorative <em>Concrete</em>, <em>Concrete</em>', 'snippet': '<em>Acid</em> <em>Stain</em>: <em>Acid</em> <em>Stain</em> and Dyes create unique earth tone hues and transparent effects to <em>concrete</em> surfaces and overlays. They impart a marble like very natural look that will enhance your floors like no other product.', 'explanation': None}, {'score': 2786.1978, 'uuid': 'ca17178d-dcc0-5cd1-b9ee-77ca91965c5d', 'index': 'cw12', 'trec_id': 'clueweb12-1802wb-96-08833', 'target_hostname': 'www.acidstainusa.com', 'target_uri': 'http://www.acidstainusa.com/c-14-acid-stain-stencil-works.aspx', 'page_rank': 1.3867004e-09, 'spam_rank': 80, 'title': '<em>Acid</em> <em>Stain</em> Products Decorative <em>Acid</em> <em>Stain</em> <em>Concrete</em> Products', 'snippet': 'Residue must be neutralized with ammonia or baking soda before applying an <em>Acid</em> <em>Stain</em> USA clear <em>Concrete</em> Sealer. Eleven rich, beautiful tones are available. <em>Acid</em> <em>Stain</em> USA colors can be layered and&#x2F;or swirled, if you so desire.', 'explanation': None}, {'score': 2739.5867, 'uuid': 'bf0e5953-e098-5705-93bd-7c97139fc961', 'index': 'cw12', 'trec_id': 'clueweb12-1804wb-22-12319', 'target_hostname': 'www.acidstainusa.com', 'target_uri': 'http://www.acidstainusa.com/resources/links2.html', 'page_rank': 1.2165797e-09, 'spam_rank': 68, 'title': '<em>Acid</em> <em>Stain</em> USA - <em>Concrete</em>', 'snippet': '<em>Concrete</em> is a mixture of paste and aggregates. Paste hardens and gains strength to form the rock-like mass known as <em>concrete</em>. Providing residential <em>concrete</em> information including products and service providers. John&#x27;s Cement provides <em>Acid</em> Staining and Stamped <em>Concrete</em> throughout S.E.Michigan.', 'explanation': None}, {'score': 2423.8313, 'uuid': 'f9876d87-659b-544b-90a2-f5be95fba45b', 'index': 'cw12', 'trec_id': 'clueweb12-1803wb-43-01881', 'target_hostname': 'www.acidstainusa.com', 'target_uri': 'http://www.acidstainusa.com/p-183-concrete-tamper.aspx', 'page_rank': 1.2340216e-09, 'spam_rank': 94, 'title': '<em>Acid</em> <em>Stain</em> USA - <em>Concrete</em> Tamper', 'snippet': 'Engineered and designed to meet the demanding standards of professional decorative <em>concrete</em> installers, MATCRETE Impact Tampers are lightweight, professional grade impact tampers for use with all types of <em>concrete</em> stamping tools, made with a high quality polyurethane base and with a heavy duty cadmium', 'explanation': None}, {'score': 2763.5728, 'uuid': '8a74eb68-b67a-52cb-ab77-47257629a12a', 'index': 'cw12', 'trec_id': 'clueweb12-0106wb-28-33035', 'target_hostname': 'www.concretesolutions.com', 'target_uri': 'http://www.concretesolutions.com/concreteacidstain.html', 'page_rank': 1.297014e-09, 'spam_rank': 98, 'title': '<em>Concrete</em> <em>Stain</em> - <em>Concrete</em> <em>Acid</em> <em>Stain</em> - <em>Concrete</em> Solutions Ultra Surface', 'snippet': 'Superior <em>Concrete</em> Restoration and Beautification Products Proven Since 1986 What is <em>Concrete</em> <em>Stain</em> and our <em>Concrete</em> <em>Acid</em> <em>Stain</em> System and How Can You Benefit From it?', 'explanation': None}, {'score': 2573.2446, 'uuid': '216cb15c-5f9d-5ff5-af2e-73c9ca3360ec', 'index': 'cw12', 'trec_id': 'clueweb12-0300wb-19-20311', 'target_hostname': 'www.scofield.com', 'target_uri': 'http://www.scofield.com/how-to-acid-stain-concrete.html', 'page_rank': 2.0642348e-09, 'spam_rank': 86, 'title': 'How To <em>Acid</em> <em>Stain</em> <em>Concrete</em> - Decorative <em>Concrete</em> Training Kit', 'snippet': 'Learn how to <em>acid</em> <em>stain</em> <em>concrete</em> floors from the professionals! Scofield&#x27;s LITHOCHROME Chemstain Classic DVD Training Kit contains a <em>concrete</em> <em>stain</em> color chart, technical literature, and an interactive DVD showing video clips of work in process, start-to-finish.', 'explanation': None}, {'score': 2481.1565, 'uuid': 'e9706e05-4ced-5fc0-b82b-3ba0e4b3c513', 'index': 'cw12', 'trec_id': 'clueweb12-0610wb-77-18200', 'target_hostname': 'www.scofield.com', 'target_uri': 'http://www.scofield.com/DIST/chemstaindvd.html', 'page_rank': 1.2277256e-09, 'spam_rank': 77, 'title': '<em>Concrete</em> <em>Acid</em> <em>Stain</em> DVD Training', 'snippet': 'Learn how to <em>acid</em> <em>stain</em> <em>concrete</em> floors from the professionals! Scofield&#x27;s LITHOCHROME Chemstain Classic DVD Training Kit contains a <em>concrete</em> <em>stain</em> color chart, technical literature, and an interactive DVD showing video clips of work in process, start-to-finish.', 'explanation': None}, {'score': 2564.7202, 'uuid': '04f9053c-6a24-53c7-9b57-e64dccb632df', 'index': 'cw12', 'trec_id': 'clueweb12-0711wb-05-00959', 'target_hostname': 'www.directcolors.com', 'target_uri': 'http://www.directcolors.com/do-it-yourself-video-how-to-apply-concrete-overlay-and-acid-stain', 'page_rank': 1.2119038e-09, 'spam_rank': 85, 'title': 'DirectColors.com: How to Apply <em>Acid</em> <em>Stain</em> &amp; <em>Concrete</em> Overlay | Direct Colors', 'snippet': 'How-to <em>Acid</em> <em>Stain</em> <em>Concrete</em> Overlay Video Description Part One: Surface Preparation, Mixing and Applying DCI One-Step <em>Concrete</em> Overlay. Part Two: Applying <em>Concrete</em> <em>Acid</em> <em>Stain</em> and Solvent-based Sealer to a Textured <em>Concrete</em> Overlay. ', 'explanation': None}, {'score': 2537.986, 'uuid': '288be281-7ec8-56a1-88d6-80c4e3e9a046', 'index': 'cw12', 'trec_id': 'clueweb12-0711wb-05-00960', 'target_hostname': 'www.directcolors.com', 'target_uri': 'http://www.directcolors.com/do-it-yourself-video-how-to-apply-concrete-overlay-and-acid-stain/', 'page_rank': 1.1700305e-09, 'spam_rank': 86, 'title': 'DirectColors.com: How to Apply <em>Acid</em> <em>Stain</em> &amp; <em>Concrete</em> Overlay | Direct Colors', 'snippet': 'How-to <em>Acid</em> <em>Stain</em> <em>Concrete</em> Overlay Video Description Part One: Surface Preparation, Mixing and Applying DCI One-Step <em>Concrete</em> Overlay. Part Two: Applying <em>Concrete</em> <em>Acid</em> <em>Stain</em> and Solvent-based Sealer to a Textured <em>Concrete</em> Overlay. ', 'explanation': None}, {'score': 2396.1978, 'uuid': '92b0f1d3-c908-5e9d-865a-5cb21d6dd99a', 'index': 'cw12', 'trec_id': 'clueweb12-0304wb-73-06472', 'target_hostname': 'www.directcolors.com', 'target_uri': 'http://www.directcolors.com/calculator', 'page_rank': 1.2494283e-09, 'spam_rank': 85, 'title': 'DirectColors.com - <em>Acid</em> <em>Stain</em> and <em>Concrete</em> Pigment Calculators | Direct', 'snippet': '<em>Acid</em> <em>Stain</em> and <em>Concrete</em> Pigment Project Calculators Pigment Cubic Yard Calculations are Based on a 5-Sack Mix Sign up today to receive infomation on our newest products &quot;I used your gel <em>stain</em> two years ago to <em>stain</em> a 120-foot white <em>concrete</em> retaining wall.', 'explanation': None}, {'score': 2505.5688, 'uuid': '9277ec9d-a8ac-5a25-8cca-3276025b1cbd', 'index': 'cw12', 'trec_id': 'clueweb12-0108wb-31-07407', 'target_hostname': 'www.concretecamouflage.com', 'target_uri': 'http://www.concretecamouflage.com/pd-applying-the-concrete-stain.cfm', 'page_rank': 1.3261291e-09, 'spam_rank': 84, 'title': '<em>Concrete</em> Camouflage. Applying <em>Concrete</em> <em>Acid</em> <em>Stain</em>', 'snippet': '&gt;Instructional Audio Book and Downloadables&gt;Downloadable Segments of the <em>Concrete</em> Staining Guides This segment explains how to apply <em>concrete</em> <em>acid</em> <em>stain</em>, with many tips. D. All Rights Reserved.', 'explanation': None}, {'score': 2422.5376, 'uuid': '86456281-93f9-5213-aa13-d7c96bf0b212', 'index': 'cw12', 'trec_id': 'clueweb12-0408wb-78-07396', 'target_hostname': 'www.concretenetwork.com', 'target_uri': 'http://www.concretenetwork.com/stained-concrete/', 'page_rank': 5.3186877e-09, 'spam_rank': 88, 'title': 'Stained <em>Concrete</em> - Staining <em>Concrete</em> - How to <em>Acid</em> <em>Stain</em> <em>Concrete</em> - The', 'snippet': 'Most <em>acid</em> <em>stains</em> are a mixture of water, hydrochloric <em>acid</em>, and <em>acid</em>-soluble metallic salts. They work by penetrating the surface and reacting chemically with the hydrated lime (calcium hydroxide) in the <em>concrete</em>.', 'explanation': None}, {'score': 2395.3923, 'uuid': '56370499-e2eb-517f-ad2a-a88a9e3d26ee', 'index': 'cw12', 'trec_id': 'clueweb12-0112wb-32-34219', 'target_hostname': 'www.forshor.com', 'target_uri': 'http://www.forshor.com/architectural/concreteacidstain.html', 'page_rank': 1.2106274e-09, 'spam_rank': 78, 'title': '<em>Concrete</em> <em>Acid</em> <em>Stain</em> - For-Shor Company', 'snippet': 'BRICKFORM Blush-Tone <em>Acid</em> <em>Stain</em> is a chemical <em>stain</em> designed to add multi-colored intensities to existing or overlay surfaces. BRICKFORM Blush-Tone <em>Acid</em> <em>Stain</em> is engineered to produce oxide colors on a cured <em>concrete</em> surface through a chemical reaction with the free lime at the surface.', 'explanation': None}]}\n"
     ]
    }
   ],
   "source": [
    "print(results)"
   ]
  },
  {
   "cell_type": "code",
   "execution_count": 78,
   "metadata": {},
   "outputs": [
    {
     "name": "stdout",
     "output_type": "stream",
     "text": [
      "faa7cfe6-bda7-5654-bc36-f30cf9a3bcbf\n",
      "40be4deb-70e1-590a-bfc1-cc5e14159153\n",
      "63e74d1b-d98d-5fdc-84ea-919cfacd1ef6\n",
      "08c49060-4cfa-500f-8609-8dcba80b0fd2\n",
      "514911c8-0dbd-58f0-b0a6-2bcf816dd4be\n",
      "c0c8f258-db7a-5a46-bbe5-e1c534565b33\n",
      "c5287b11-5862-5ffb-b66c-2b9216a6404a\n",
      "f8576743-b77e-55c0-9614-98ae666edd28\n",
      "ca17178d-dcc0-5cd1-b9ee-77ca91965c5d\n",
      "bf0e5953-e098-5705-93bd-7c97139fc961\n",
      "f9876d87-659b-544b-90a2-f5be95fba45b\n",
      "8a74eb68-b67a-52cb-ab77-47257629a12a\n",
      "216cb15c-5f9d-5ff5-af2e-73c9ca3360ec\n",
      "e9706e05-4ced-5fc0-b82b-3ba0e4b3c513\n",
      "04f9053c-6a24-53c7-9b57-e64dccb632df\n",
      "288be281-7ec8-56a1-88d6-80c4e3e9a046\n",
      "92b0f1d3-c908-5e9d-865a-5cb21d6dd99a\n",
      "9277ec9d-a8ac-5a25-8cca-3276025b1cbd\n",
      "86456281-93f9-5213-aa13-d7c96bf0b212\n",
      "56370499-e2eb-517f-ad2a-a88a9e3d26ee\n",
      "14 pages\n"
     ]
    }
   ],
   "source": [
    "# clean pages\n",
    "from newspaper import Article\n",
    "\n",
    "cluster = {}\n",
    "\n",
    "for result in results['results']:\n",
    "\n",
    "    uuid = result['uuid']\n",
    "    print(uuid)\n",
    "\n",
    "    url = 'https://www.chatnoir.eu/cache?uuid=%s&index=cw12&raw&plain' % uuid\n",
    "    a = Article(url, language='en')\n",
    "    try:\n",
    "        a.download()\n",
    "        a.parse()\n",
    "        title = a.title\n",
    "        text = a.text\n",
    "        # collect paragraphs\n",
    "        paragraphs = [p for p in text.split('\\n') if len(p) > 250]\n",
    "        if paragraphs:\n",
    "            cluster[uuid] = paragraphs\n",
    "    except:\n",
    "        pass\n",
    "    \n",
    "print(len(cluster), 'pages')"
   ]
  },
  {
   "cell_type": "code",
   "execution_count": 1,
   "metadata": {},
   "outputs": [
    {
     "ename": "NameError",
     "evalue": "name 'cluster' is not defined",
     "output_type": "error",
     "traceback": [
      "\u001b[0;31m---------------------------------------------------------------------------\u001b[0m",
      "\u001b[0;31mNameError\u001b[0m                                 Traceback (most recent call last)",
      "\u001b[0;32m<ipython-input-1-f6db16c93228>\u001b[0m in \u001b[0;36m<module>\u001b[0;34m\u001b[0m\n\u001b[1;32m      1\u001b[0m \u001b[0mparas\u001b[0m \u001b[0;34m=\u001b[0m \u001b[0;34m[\u001b[0m\u001b[0;34m]\u001b[0m\u001b[0;34m\u001b[0m\u001b[0;34m\u001b[0m\u001b[0m\n\u001b[0;32m----> 2\u001b[0;31m \u001b[0;32mfor\u001b[0m \u001b[0muuid\u001b[0m\u001b[0;34m,\u001b[0m \u001b[0mparagraphs\u001b[0m \u001b[0;32min\u001b[0m \u001b[0mcluster\u001b[0m\u001b[0;34m.\u001b[0m\u001b[0mitems\u001b[0m\u001b[0;34m(\u001b[0m\u001b[0;34m)\u001b[0m\u001b[0;34m:\u001b[0m\u001b[0;34m\u001b[0m\u001b[0;34m\u001b[0m\u001b[0m\n\u001b[0m\u001b[1;32m      3\u001b[0m     \u001b[0mprint\u001b[0m\u001b[0;34m(\u001b[0m\u001b[0muuid\u001b[0m\u001b[0;34m)\u001b[0m\u001b[0;34m\u001b[0m\u001b[0;34m\u001b[0m\u001b[0m\n\u001b[1;32m      4\u001b[0m     \u001b[0;32mfor\u001b[0m \u001b[0mp\u001b[0m \u001b[0;32min\u001b[0m \u001b[0mparagraphs\u001b[0m\u001b[0;34m:\u001b[0m\u001b[0;34m\u001b[0m\u001b[0;34m\u001b[0m\u001b[0m\n\u001b[1;32m      5\u001b[0m         \u001b[0mprint\u001b[0m\u001b[0;34m(\u001b[0m\u001b[0mp\u001b[0m\u001b[0;34m,\u001b[0m \u001b[0;34m'\\n'\u001b[0m\u001b[0;34m)\u001b[0m\u001b[0;34m\u001b[0m\u001b[0;34m\u001b[0m\u001b[0m\n",
      "\u001b[0;31mNameError\u001b[0m: name 'cluster' is not defined"
     ]
    }
   ],
   "source": [
    "paras = []\n",
    "for uuid, paragraphs in cluster.items():\n",
    "    print(uuid)\n",
    "    for p in paragraphs:\n",
    "        print(p, '\\n')\n",
    "        assert '/n' not in p\n",
    "        paras.append(p)\n",
    "    print('\\n')\n",
    "print(len(paras))"
   ]
  },
  {
   "cell_type": "code",
   "execution_count": null,
   "metadata": {},
   "outputs": [],
   "source": [
    "# dump passages\n",
    "import datetime\n",
    "import json\n",
    "import os\n",
    "\n",
    "squash_path = '/home/svakule/squash-generation'\n",
    "os.mkdir(\"%s/squash/temp/%s\" % (squash_path, key))\n",
    "\n",
    "key = 'clueweb12'\n",
    "top_p = 0.9\n",
    "gen_frac = 0.5\n",
    "spec_frac = 0.8\n",
    "\n",
    "\n",
    "metadata = {\n",
    "        \"input_text\": \"\\n\".join(paras),\n",
    "        \"key\": key,\n",
    "        \"timestamp\": str(datetime.datetime.now()),\n",
    "        \"settings\": {\n",
    "            \"top_p\": top_p,\n",
    "            \"gen_frac\": gen_frac,\n",
    "            \"spec_frac\": spec_frac\n",
    "        }\n",
    "    }\n",
    "\n",
    "\n",
    "with open('%s/squash/temp/%s/metadata.json' % (squash_path, key), 'w') as f:\n",
    "    f.write(json.dumps(metadata))\n",
    "    \n",
    "# python squash/extract_answers.py --key clueweb12\n",
    "# python question-generation/interact.py --model_checkpoint question-generation/gpt2_corefs_question_generation --model_type gpt2 --key clueweb12 --filename squash/temp/clueweb12/input.pkl\n",
    "# vim squash/temp/clueweb12/generated_questions.json"
   ]
  }
 ],
 "metadata": {
  "kernelspec": {
   "display_name": "text_analysis",
   "language": "python",
   "name": "text_analysis"
  },
  "language_info": {
   "codemirror_mode": {
    "name": "ipython",
    "version": 3
   },
   "file_extension": ".py",
   "mimetype": "text/x-python",
   "name": "python",
   "nbconvert_exporter": "python",
   "pygments_lexer": "ipython3",
   "version": "3.6.9"
  }
 },
 "nbformat": 4,
 "nbformat_minor": 2
}
